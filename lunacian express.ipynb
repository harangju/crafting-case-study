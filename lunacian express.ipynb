{
 "cells": [
  {
   "cell_type": "markdown",
   "id": "67d206ec",
   "metadata": {},
   "source": [
    "## Mongo"
   ]
  },
  {
   "cell_type": "code",
   "execution_count": null,
   "id": "252ba5d2",
   "metadata": {},
   "outputs": [],
   "source": [
    "# brew services start mongodb-community@6.0\n",
    "# on command line"
   ]
  },
  {
   "cell_type": "code",
   "execution_count": null,
   "id": "04ad3071",
   "metadata": {},
   "outputs": [],
   "source": [
    "import pymongo as pm\n",
    "import pprint as pp"
   ]
  },
  {
   "cell_type": "code",
   "execution_count": null,
   "id": "3f883e83",
   "metadata": {},
   "outputs": [],
   "source": [
    "client = pm.MongoClient()\n",
    "db = client.ronin\n",
    "client, db"
   ]
  },
  {
   "cell_type": "markdown",
   "id": "82ea33d2",
   "metadata": {},
   "source": [
    "## Lunar Express\n",
    "\n",
    "**Lunar Express Items Repository**\n",
    "\n",
    "https://explorer.roninchain.com/address/ronin:144697847f4bf184534af5945abe0fb5f1b14fba\n",
    "\n",
    "**Lunar Express Axie Repository**\n",
    "\n",
    "https://explorer.roninchain.com/address/ronin:27263b825bab7ef905718185342905fbd248d1ed\n",
    "\n",
    "**Example Lunar Express Burn Transaction**\n",
    "\n",
    "https://explorer.roninchain.com/tx/0x679d06b10f760cb7eb07f25718278838f53f25be5139ad607555db4fa639212a\n",
    "\n",
    "**Personal LE Item Receipt**\n",
    "\n",
    "https://explorer.roninchain.com/tx/0x64ee9f6c4bc4cad1c7cbc5b800f6a22bae916f190e2d63c2ee48c1ac6758d23b"
   ]
  },
  {
   "cell_type": "code",
   "execution_count": null,
   "id": "7b7cb897",
   "metadata": {
    "scrolled": false
   },
   "outputs": [],
   "source": [
    "my_address = '0x16ce38f2f5407fe61d4723a550f14b37650fd074'\n",
    "\n",
    "addy_LE_items = '0x144697847f4bf184534af5945abe0fb5f1b14fba'\n",
    "addy_LE_axies = '0x27263b825bab7ef905718185342905fbd248d1ed'\n",
    "tx_LE_burn = '0x679d06b10f760cb7eb07f25718278838f53f25be5139ad607555db4fa639212a'\n",
    "tx_LE_item = '0x64ee9f6c4bc4cad1c7cbc5b800f6a22bae916f190e2d63c2ee48c1ac6758d23b'\n",
    "\n",
    "addy_axie_contract = '0x32950db2a7164ae833121501c797d79e7b79d74c'"
   ]
  },
  {
   "cell_type": "code",
   "execution_count": null,
   "id": "28964bac",
   "metadata": {
    "scrolled": true
   },
   "outputs": [],
   "source": [
    "'request to get LE items', db.transactions.count_documents({'to': addy_LE_items})\n",
    "# 'from' is users"
   ]
  },
  {
   "cell_type": "code",
   "execution_count": null,
   "id": "457b045c",
   "metadata": {},
   "outputs": [],
   "source": [
    "import pandas as pd"
   ]
  },
  {
   "cell_type": "code",
   "execution_count": null,
   "id": "aeeb9f6e",
   "metadata": {},
   "outputs": [],
   "source": [
    "LE_item_mints = []\n",
    "cursor = db.transactions.find({'to': addy_LE_items})\n",
    "for tx in cursor:\n",
    "    LE_item_mints.append(tx)\n",
    "LE_item_mints = pd.DataFrame(LE_item_mints)\n",
    "LE_item_mints"
   ]
  },
  {
   "cell_type": "code",
   "execution_count": null,
   "id": "715b099e",
   "metadata": {},
   "outputs": [],
   "source": [
    "import datetime as dt\n",
    "\n",
    "LE_axie_burns = []\n",
    "cursor = db.axietransfers.find({'to': addy_LE_axies})\n",
    "for tx in cursor:\n",
    "    LE_axie_burns.append(tx)\n",
    "LE_axie_burns = pd.DataFrame(LE_axie_burns)\n",
    "LE_axie_burns"
   ]
  },
  {
   "cell_type": "code",
   "execution_count": null,
   "id": "d3c764a1",
   "metadata": {},
   "outputs": [],
   "source": [
    "db.axietransfers.find_one()"
   ]
  },
  {
   "cell_type": "code",
   "execution_count": null,
   "id": "0552e8fd",
   "metadata": {},
   "outputs": [],
   "source": [
    "import plotly.graph_objects as go"
   ]
  },
  {
   "cell_type": "code",
   "execution_count": null,
   "id": "a620f60f",
   "metadata": {
    "scrolled": false
   },
   "outputs": [],
   "source": [
    "LE_axie_burns['date'] = LE_axie_burns.apply(lambda row : row['created_at'].date(), axis = 1)\n",
    "LE_axie_burns = LE_axie_burns[LE_axie_burns['date'] <= dt.date(2022, 2, 20)]\n",
    "LE_axie_burns"
   ]
  },
  {
   "cell_type": "markdown",
   "id": "989a7f7f",
   "metadata": {},
   "source": [
    "### Analysis\n",
    "\n",
    "Axie transfer data\n",
    "* get number of axie transfers to `addy_LE_axies`\n",
    "* general stats\n",
    "    * how many users participated? absolute count, percentage\n",
    "    * usage over time\n",
    "* per user\n",
    "    * how many uses?\n",
    "    * usage over time"
   ]
  },
  {
   "cell_type": "code",
   "execution_count": null,
   "id": "9324762c",
   "metadata": {},
   "outputs": [],
   "source": [
    "usage = LE_axie_burns.groupby(by=['date', 'from']).count()\\\n",
    "    .reset_index()\\\n",
    "    .filter(['date', 'from', 'to'])\\\n",
    "    .rename(columns={'to': 'count'})\n",
    "usage"
   ]
  },
  {
   "cell_type": "code",
   "execution_count": null,
   "id": "22f00aa0",
   "metadata": {},
   "outputs": [],
   "source": [
    "usage_total = usage.groupby(by=['date']).count()\\\n",
    "    .reset_index()\n",
    "usage_total[:4]"
   ]
  },
  {
   "cell_type": "code",
   "execution_count": null,
   "id": "2b8becce",
   "metadata": {},
   "outputs": [],
   "source": [
    "import datetime as dt\n",
    "\n",
    "usage_total_during_event = usage_total[usage_total['date'] < dt.date(2022, 2, 21)]\n",
    "fig = go.Figure(go.Scatter(x=usage_total_during_event['date'], y=usage_total_during_event['count']))\n",
    "fig.update_layout(\n",
    "    template='plotly_white', width=400, height=300,\n",
    "    margin={'l':10, 'r':10, 't':60, 'b':10},\n",
    "    yaxis_title='number of axies burned', title='Total Usage (Lunar Express)'\n",
    ")\n",
    "fig.show()"
   ]
  },
  {
   "cell_type": "markdown",
   "id": "1362341a",
   "metadata": {},
   "source": [
    "February 19, 2022 was the last day of the event."
   ]
  },
  {
   "cell_type": "code",
   "execution_count": null,
   "id": "3aaf4d90",
   "metadata": {
    "scrolled": true
   },
   "outputs": [],
   "source": [
    "usage.sort_values(by='count', ascending=False)[:2]"
   ]
  },
  {
   "cell_type": "code",
   "execution_count": null,
   "id": "fadbdd97",
   "metadata": {},
   "outputs": [],
   "source": [
    "usage[usage['from']=='0x8197e6b042ddfa7b6d0e8d894b6e58520241a0ef']"
   ]
  },
  {
   "cell_type": "code",
   "execution_count": null,
   "id": "8cb9c742",
   "metadata": {},
   "outputs": [],
   "source": [
    "# fig = go.Figure()\n",
    "# for addy in pd.unique(usage['from']):\n",
    "#     usage_addy = usage[usage['from']==addy]\n",
    "#     fig.add_trace(go.Scatter(x=usage_addy['date'], y=usage_addy['count']))\n",
    "# fig.update_layout(\n",
    "#     template='plotly_white', width=400, height=300,\n",
    "#     margin={'l':10, 'r':10, 't':40, 'b':10},\n",
    "#     yaxis_title='number of axies burned', title='Individual Usage (Lunar Express)'\n",
    "# )\n",
    "# fig.show()"
   ]
  },
  {
   "cell_type": "code",
   "execution_count": null,
   "id": "a76813dc",
   "metadata": {},
   "outputs": [],
   "source": [
    "usage_user = usage.groupby(by=['from']).sum()\\\n",
    "    .reset_index()\\\n",
    "    .sort_values(by='count', ascending=False)\n",
    "usage_user[:4]"
   ]
  },
  {
   "cell_type": "code",
   "execution_count": null,
   "id": "7401bbfc",
   "metadata": {},
   "outputs": [],
   "source": [
    "import plotly.express as px\n",
    "\n",
    "fig = px.histogram(usage_user, x='count', log_y=True, log_x=True)\n",
    "fig.update_layout(\n",
    "    template='plotly_white', width=300, height=300,\n",
    "    margin={'l':10, 'r':10, 't':40, 'b':10},\n",
    "    yaxis_title='number of axies burned', \n",
    "    xaxis_title='number of users',\n",
    "    title='Usage Distribution by User (Lunar Express)'\n",
    ")\n",
    "fig.show()"
   ]
  },
  {
   "cell_type": "code",
   "execution_count": null,
   "id": "967f2ca5",
   "metadata": {},
   "outputs": [],
   "source": [
    "import numpy as np\n",
    "\n",
    "hist, bin_edges = np.histogram(\n",
    "    usage_user['count'],\n",
    "    bins=np.logspace(np.log10(1), np.log10(usage_user['count'].max()), 40)\n",
    ")\n",
    "fig = go.Figure(go.Scatter(x=bin_edges, y=hist, mode='markers'))\n",
    "fig.update_layout(\n",
    "    template='plotly_white', width=400, height=400,\n",
    "    margin={'l':10, 'r':10, 't':40, 'b':10},\n",
    "    yaxis={'title': 'number of users', 'type': 'log'},\n",
    "    xaxis={'title': 'number of axies burned', 'type': 'log'},\n",
    "    title='Usage Distribution by User (Lunar Express)'\n",
    ")\n",
    "fig.show()\n",
    "\n",
    "hist = hist / sum(hist)\n",
    "fig = go.Figure(go.Scatter(x=bin_edges, y=hist, mode='markers'))\n",
    "fig.update_layout(\n",
    "    template='plotly_white', width=400, height=400,\n",
    "    margin={'l':10, 'r':10, 't':40, 'b':10},\n",
    "    yaxis={'title': 'P(number of axies burned)', 'type': 'log'},\n",
    "    xaxis={'title': 'number of axies burned', 'type': 'log'},\n",
    "    title='Usage Distribution by User (Lunar Express)'\n",
    ")\n",
    "fig.show()"
   ]
  },
  {
   "cell_type": "code",
   "execution_count": null,
   "id": "ed4135ed",
   "metadata": {},
   "outputs": [],
   "source": [
    "usage_user_days = usage.groupby(by=['from']).count()\\\n",
    "    .reset_index()\\\n",
    "    .drop('date', axis=1)\\\n",
    "    .rename(columns={'count': 'days'})\\\n",
    "    .sort_values(by='days', ascending=False)\n",
    "usage_user_days[:3]"
   ]
  },
  {
   "cell_type": "code",
   "execution_count": null,
   "id": "d3e6445b",
   "metadata": {},
   "outputs": [],
   "source": [
    "hist, bin_edges = np.histogram(\n",
    "    usage_user_days['days'],\n",
    "    bins=np.logspace(np.log10(1), np.log10(usage_user_days['days'].max()), 30)\n",
    ")\n",
    "fig = go.Figure(go.Scatter(x=bin_edges, y=hist, mode='markers'))\n",
    "fig.update_layout(\n",
    "    template='plotly_white', width=400, height=400,\n",
    "    margin={'l':10, 'r':10, 't':30, 'b':10},\n",
    "    yaxis={'title': 'number of users', 'type': 'log'},\n",
    "    xaxis={'title': 'number of days spent', 'type': 'log'},\n",
    "    title='Days Spent (Lunar Express)'\n",
    ")\n",
    "fig.show()\n",
    "\n",
    "hist = hist / sum(hist)\n",
    "fig = go.Figure(go.Scatter(x=bin_edges, y=hist, mode='markers'))\n",
    "fig.update_layout(\n",
    "    template='plotly_white', width=400, height=400,\n",
    "    margin={'l':10, 'r':10, 't':30, 'b':10},\n",
    "    yaxis={'title': 'P(days spent)', 'type': 'log'},\n",
    "    xaxis={'title': 'number of days spent', 'type': 'log'},\n",
    "    title='Days Spent (Lunar Express)'\n",
    ")\n",
    "fig.show()"
   ]
  },
  {
   "cell_type": "code",
   "execution_count": null,
   "id": "39b1985a",
   "metadata": {},
   "outputs": [],
   "source": [
    "core_user = usage[usage['from']=='0x9348bfc25963177b9512fbefe89d82dac04dd11f']\n",
    "core_user['date'].min(), core_user['date'].max(), core_user['date'].max()-core_user['date'].min()"
   ]
  },
  {
   "cell_type": "code",
   "execution_count": null,
   "id": "2c032971",
   "metadata": {},
   "outputs": [],
   "source": [
    "usage_date_max = usage.groupby(by=['from']).max()\\\n",
    "    .drop('count', axis=1)\\\n",
    "    .rename(columns={'date': 'date_max'})\n",
    "usage_date_min = usage.groupby(by=['from']).min()\\\n",
    "    .drop('count', axis=1)\\\n",
    "    .rename(columns={'date': 'date_min'})\n",
    "usage_dates = usage_date_min.join(usage_date_max, on='from')\\\n",
    "    .reset_index()\n",
    "usage_dates['date_diff'] = usage_dates['date_max'] - usage_dates['date_min'] + dt.timedelta(days=1)\n",
    "usage_dates['date_diff_days'] = usage_dates['date_diff'].dt.days\n",
    "usage_dates = usage_dates.sort_values(by='date_diff', ascending=False)\n",
    "usage_dates"
   ]
  },
  {
   "cell_type": "code",
   "execution_count": null,
   "id": "7c8e36fb",
   "metadata": {},
   "outputs": [],
   "source": [
    "# average duration participation\n",
    "import plotly.express as px\n",
    "\n",
    "fig = px.histogram(usage_dates, x='date_diff_days', log_y=True)\n",
    "fig.update_layout(\n",
    "    template='plotly_white', width=400, height=400,\n",
    "    margin={'l':10, 'r':10, 't':30, 'b':10},\n",
    "    yaxis_title='number of users', \n",
    "    xaxis_title='number of days bt first and last',\n",
    "    title='Duration of Participation (Lunar Express)'\n",
    ")\n",
    "fig.show()"
   ]
  },
  {
   "cell_type": "code",
   "execution_count": null,
   "id": "2e8a50e7",
   "metadata": {},
   "outputs": [],
   "source": [
    "usage['count'] / usage['count'].sum()"
   ]
  },
  {
   "cell_type": "code",
   "execution_count": null,
   "id": "4bbdec75",
   "metadata": {},
   "outputs": [],
   "source": [
    "hist, bin_edges = np.histogram(\n",
    "    usage['count'],\n",
    "    bins=np.logspace(np.log10(1), np.log10(usage['count'].max()), 30)\n",
    ")\n",
    "fig = go.Figure(go.Scatter(x=bin_edges, y=hist, mode='markers'))\n",
    "fig.update_layout(\n",
    "    template='plotly_white', width=400, height=400,\n",
    "    margin={'l':10, 'r':10, 't':30, 'b':10},\n",
    "    yaxis={'title': 'number of days', 'type': 'log'},\n",
    "    xaxis={'title': 'number of burns per day', 'type': 'log'},\n",
    "    title='Daily Burns (Lunar Express)'\n",
    ")\n",
    "fig.show()\n",
    "\n",
    "hist = hist / sum(hist)\n",
    "fig = go.Figure(go.Scatter(x=bin_edges, y=hist, mode='markers'))\n",
    "fig.update_layout(\n",
    "    template='plotly_white', width=400, height=400,\n",
    "    margin={'l':10, 'r':10, 't':30, 'b':10},\n",
    "    yaxis={'title': 'P(daily burns)', 'type': 'log'},\n",
    "    xaxis={'title': 'number of burns per day', 'type': 'log'},\n",
    "    title='Daily Burns (Lunar Express)'\n",
    ")\n",
    "fig.show()"
   ]
  },
  {
   "cell_type": "code",
   "execution_count": null,
   "id": "a383c277",
   "metadata": {},
   "outputs": [],
   "source": [
    "fig = px.histogram(usage, x='count', log_y=True, log_x=True)\n",
    "fig.update_layout(\n",
    "    template='plotly_white', width=400, height=400,\n",
    "    margin={'l':10, 'r':10, 't':30, 'b':10},\n",
    "    yaxis_title='number of days', \n",
    "    xaxis_title='number of burns per day',\n",
    "    title='Daily Burns (Lunar Express)'\n",
    ")\n",
    "fig.show()"
   ]
  },
  {
   "cell_type": "code",
   "execution_count": null,
   "id": "59211892",
   "metadata": {},
   "outputs": [],
   "source": [
    "# opportunity cost, value burned"
   ]
  },
  {
   "cell_type": "code",
   "execution_count": null,
   "id": "5711d8bf",
   "metadata": {},
   "outputs": [],
   "source": [
    "db.axiesales.find_one()"
   ]
  },
  {
   "cell_type": "code",
   "execution_count": null,
   "id": "9011cd68",
   "metadata": {},
   "outputs": [],
   "source": [
    "axie_sales = []\n",
    "cursor = db.axiesales.find({'created_at': {\"$gt\": dt.datetime(2022, 1, 19), \"$lt\": dt.datetime(2022, 2, 21)}})\n",
    "for tx in cursor:\n",
    "    axie_sales.append(tx)\n",
    "axie_sales = pd.DataFrame(axie_sales)\n",
    "axie_sales"
   ]
  },
  {
   "cell_type": "code",
   "execution_count": null,
   "id": "572af8ad",
   "metadata": {},
   "outputs": [],
   "source": [
    "axie_prices = []\n",
    "wei_per_eth = 1000000000000000000\n",
    "window_size = 1000\n",
    "for i in range(32):\n",
    "    date_start = dt.datetime(2022, 1, 20) + dt.timedelta(days=i)\n",
    "    date_end = dt.datetime(2022, 1, 20) + dt.timedelta(days=i+1)\n",
    "    cursor = db.axiesales.find({\n",
    "        'created_at': {'$gt': date_start, '$lt': date_end},\n",
    "        'price': {'$ne': '0'}\n",
    "    })\\\n",
    "        .sort('price', pm.ASCENDING)\n",
    "    price_eth = 0\n",
    "    for i in range(window_size):\n",
    "        row = next(cursor)\n",
    "        price_eth += int(row['price']) / wei_per_eth\n",
    "    price_eth /= window_size\n",
    "    axie_prices.append(price_eth)\n",
    "axie_prices"
   ]
  },
  {
   "cell_type": "code",
   "execution_count": null,
   "id": "f25d68ff",
   "metadata": {},
   "outputs": [],
   "source": [
    "dates = [dt.datetime(2022, 1, 20) + dt.timedelta(days=i) for i in range(31)]\n",
    "fig = go.Figure(go.Scatter(x=dates, y=axie_prices))\n",
    "fig.update_layout(\n",
    "    template='plotly_white', width=400, height=300,\n",
    "    margin={'l':10, 'r':10, 't':60, 'b':10},\n",
    "    yaxis={'title': 'ETH', 'range': [0, max(axie_prices)]},\n",
    "    title='Axie Prices'\n",
    ")\n",
    "fig.show()"
   ]
  },
  {
   "cell_type": "markdown",
   "id": "77452d5e",
   "metadata": {},
   "source": [
    "- What was the depth of the axie market? How would a burn mechanism affect the market?\n",
    "- Did people over-react to the event by breeding too much?"
   ]
  },
  {
   "cell_type": "code",
   "execution_count": null,
   "id": "4cf3aacf",
   "metadata": {
    "scrolled": true
   },
   "outputs": [],
   "source": [
    "import requests\n",
    "import time\n",
    "\n",
    "eth_prices = []\n",
    "for i in range(32):\n",
    "    date = dt.datetime(2022, 1, 20) + dt.timedelta(days=i)\n",
    "    url = \"https://api.coingecko.com/api/v3/coins/ethereum/history?date=\" + date.strftime(\"%d-%m-%Y\")\n",
    "    r = requests.get(url)\n",
    "    eth_usd = r.json()['market_data']['current_price']['usd']\n",
    "    eth_prices += [eth_usd]\n",
    "    time.sleep(2)"
   ]
  },
  {
   "cell_type": "code",
   "execution_count": null,
   "id": "4f269dfd",
   "metadata": {},
   "outputs": [],
   "source": [
    "usage_total['eth_sunk'] = usage_total['count'] * axie_prices\n",
    "usage_total['usd_sunk'] = usage_total['eth_sunk'] * eth_prices\n",
    "usage_total"
   ]
  },
  {
   "cell_type": "code",
   "execution_count": null,
   "id": "d0963b1b",
   "metadata": {},
   "outputs": [],
   "source": [
    "import datetime as dt\n",
    "from plotly.subplots import make_subplots\n",
    "\n",
    "fig = go.Figure(go.Scatter(x=usage_total['date'], y=usage_total['count']))\n",
    "fig.update_layout(\n",
    "    template='plotly_white', width=400, height=300,\n",
    "    margin={'l':10, 'r':10, 't':60, 'b':10},\n",
    "    yaxis={'title': 'number of axies burned', 'type': 'log'},\n",
    "    title='Total Usage (Lunar Express)'\n",
    ")\n",
    "fig.show()\n",
    "\n",
    "fig = make_subplots(specs=[[{\"secondary_y\": True}]])\n",
    "fig.add_trace(go.Scatter(x=usage_total['date'], y=usage_total['eth_sunk'], name='ETH'))\n",
    "fig.add_trace(go.Scatter(x=usage_total['date'], y=usage_total['usd_sunk'], name='USD'), secondary_y=True)\n",
    "go.Scatter(x=usage_total['date'], y=usage_total['usd_sunk'])\n",
    "fig.update_layout(\n",
    "    template='plotly_white', width=480, height=300,\n",
    "    margin={'l':10, 'r':10, 't':60, 'b':10},\n",
    "    yaxis={'title': 'value burned', 'type': 'log'},\n",
    "    title='Total Usage (Lunar Express)'\n",
    ")\n",
    "fig.update_yaxes(type='log', secondary_y=True)\n",
    "fig.show()"
   ]
  },
  {
   "cell_type": "code",
   "execution_count": null,
   "id": "842e380f",
   "metadata": {},
   "outputs": [],
   "source": [
    "total_eth_sunk = usage_total['eth_sunk'].sum()\n",
    "total_usd_sunk = usage_total['usd_sunk'].sum()\n",
    "print(f\"Ξ{total_eth_sunk:,.2f}\")\n",
    "print(f\"${total_usd_sunk:,.2f}\")"
   ]
  },
  {
   "cell_type": "code",
   "execution_count": null,
   "id": "e7eed14c",
   "metadata": {},
   "outputs": [],
   "source": [
    "# volume of items traded"
   ]
  },
  {
   "cell_type": "code",
   "execution_count": null,
   "id": "c1028045",
   "metadata": {},
   "outputs": [],
   "source": [
    "# social metrics"
   ]
  },
  {
   "cell_type": "markdown",
   "id": "3a56f00e",
   "metadata": {},
   "source": [
    "### Conclusions\n",
    "\n",
    "Most burns occurred at the very beginning. The end of the event\n",
    "\n",
    "Scale-free... Heavy tails everywhere..."
   ]
  }
 ],
 "metadata": {
  "kernelspec": {
   "display_name": "Python 3 (ipykernel)",
   "language": "python",
   "name": "python3"
  },
  "language_info": {
   "codemirror_mode": {
    "name": "ipython",
    "version": 3
   },
   "file_extension": ".py",
   "mimetype": "text/x-python",
   "name": "python",
   "nbconvert_exporter": "python",
   "pygments_lexer": "ipython3",
   "version": "3.9.13"
  }
 },
 "nbformat": 4,
 "nbformat_minor": 5
}
