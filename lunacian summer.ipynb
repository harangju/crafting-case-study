{
 "cells": [
  {
   "cell_type": "markdown",
   "id": "67d206ec",
   "metadata": {},
   "source": [
    "## Mongo"
   ]
  },
  {
   "cell_type": "code",
   "execution_count": null,
   "id": "252ba5d2",
   "metadata": {},
   "outputs": [],
   "source": [
    "# brew services start mongodb-community@6.0\n",
    "# on command line"
   ]
  },
  {
   "cell_type": "code",
   "execution_count": null,
   "id": "04ad3071",
   "metadata": {},
   "outputs": [],
   "source": [
    "import pymongo as pm\n",
    "import pprint as pp\n",
    "import time"
   ]
  },
  {
   "cell_type": "code",
   "execution_count": null,
   "id": "3f883e83",
   "metadata": {},
   "outputs": [],
   "source": [
    "client = pm.MongoClient()\n",
    "db = client.ronin\n",
    "client, db"
   ]
  },
  {
   "cell_type": "code",
   "execution_count": null,
   "id": "2604277b",
   "metadata": {},
   "outputs": [],
   "source": [
    "db.axiesales"
   ]
  },
  {
   "cell_type": "markdown",
   "id": "b5fcfeda",
   "metadata": {},
   "source": [
    "## Lunacian Summer\n",
    "\n",
    "**Axie Listing**\n",
    "Approve https://explorer.roninchain.com/tx/0xa91b254adea5cf7f2c1aff8b088d9224f7865871ea532135546acd626ca0b654\n",
    "\n",
    "**Market Gateway**\n",
    "0xfff9ce5f71ca6178d3beecedb61e7eff1602950e\n",
    "https://explorer.roninchain.com/address/ronin:fff9ce5f71ca6178d3beecedb61e7eff1602950e\n",
    "\n",
    "**Axie Purchase**\n",
    "ORDER_EXCHANGE on Market Gateway https://explorer.roninchain.com/tx/0x48478beca5730d76d4e126b9dbff4493f7e7199c9ccad07b96b32b571570855d\n",
    "\n",
    "Great Reset https://axie.substack.com/p/greatreset (since Aug 5, 2022)\n",
    "\n",
    "**Community \"Treasury\"**\n",
    "https://explorer.roninchain.com/address/ronin:a99cacd1427f493a95b585a5c7989a08c86a616b"
   ]
  },
  {
   "cell_type": "markdown",
   "id": "15d49a2f",
   "metadata": {},
   "source": [
    "## Thoughts\n",
    "\n",
    "For the Summer Event, were people doing Step 1 (breeding axies without summer parts for axies summer parts) or Step 1+ (breeding axies with summer parts for summer parts)?\n",
    "    \n",
    "Then, look at social data on Twitter.\n",
    "* what did people post? the rares? or first times?\n",
    "    * compare events\n",
    "    \n",
    "Problem statement: Gaming companies cannot do the same event over and over. The Lunacian Express event was a flop. The Lunacian Summer event was a success. But they cannot do breeding events all the time because users would lose interest. Thus, they must find the underlying principle to the success of the Lunacian Summer event and apply that to a variety of events. They could do another \"Express\" event but with the correct mechanisms to encourage token burn. Or they could do *any* event with the correct mechanisms.\n",
    "\n",
    "Both Lunacian Express and Lunacian Summer events were both for cosmetic items.\n",
    "\n",
    "Was it because they could use the axies in battle? Check battle logs.\n",
    "\n",
    "Or did they just want to collect the summer axies?\n",
    "\n",
    "Success can be measured by:\n",
    "- event usage\n",
    "    - activity as function of time, progress on the event\n",
    "    - what is the point of user?\n",
    "- marketplace tx\n",
    "    - over time?\n",
    "    - individual decisions\n",
    "        - which ones (1/6 or n/6)?\n",
    "        - do they want to produce it themselves or buy it?\n",
    "    - what process are people joining or exiting?\n",
    "- value burned\n",
    "    - tokens and NFTs\n",
    "- social metrics\n",
    "- \"consulting\" solutions\n",
    "    - gotcha roll, crafting\n",
    "    \n",
    "- https://web3py.readthedocs.io/en/latest/contracts.html?highlight=decode#methods\n",
    "- https://docs.google.com/spreadsheets/d/1Eh4453zDYuo814ZOkyfl1lDjwwIhZpJH39lzQFG2YS4/edit#gid=1278785847"
   ]
  },
  {
   "cell_type": "markdown",
   "id": "feb9fcec",
   "metadata": {},
   "source": [
    "### web3py"
   ]
  },
  {
   "cell_type": "code",
   "execution_count": null,
   "id": "0161acc8",
   "metadata": {},
   "outputs": [],
   "source": [
    "from web3 import Web3, contract\n",
    "import json, requests"
   ]
  },
  {
   "cell_type": "code",
   "execution_count": null,
   "id": "b4a8695a",
   "metadata": {},
   "outputs": [],
   "source": [
    "USER_AGENT = \"Mozilla/5.0 (Macintosh; Intel Mac OS X 10_15_7) AppleWebKit/537.36 (KHTML, like Gecko) Chrome/91.0.4472.77 Safari/537.36\"\n",
    "headers = {\n",
    "  \"Content-Type\": \"application/json\",\n",
    "  \"User-Agent\": USER_AGENT }\n",
    "\n",
    "web3 = Web3(Web3.HTTPProvider('https://api.roninchain.com/rpc', request_kwargs={ \"headers\": headers }))"
   ]
  },
  {
   "cell_type": "code",
   "execution_count": null,
   "id": "0d826944",
   "metadata": {},
   "outputs": [],
   "source": [
    "contract_address_axie = Web3.toChecksumAddress('0x32950db2a7164ae833121501c797d79e7b79d74c')\n",
    "contract_address_axs = Web3.toChecksumAddress('0x97a9107c1793bc407d6f527b77e7fff4d812bece')\n",
    "contract_address_slp = Web3.toChecksumAddress('0xa8754b9fa15fc18bb59458815510e40a12cd2014')\n",
    "contract_address_axie, contract_address_axs, contract_address_slp"
   ]
  },
  {
   "cell_type": "code",
   "execution_count": null,
   "id": "cb2e3414",
   "metadata": {},
   "outputs": [],
   "source": [
    "tx = web3.eth.get_transaction('0x7c5042ea44e6e78128a09f3a8b686267046b2013a7c5653e9fabbd40242f3c03')\n",
    "tx"
   ]
  },
  {
   "cell_type": "code",
   "execution_count": null,
   "id": "0d9c65ad",
   "metadata": {},
   "outputs": [],
   "source": [
    "receipt = web3.eth.get_transaction_receipt('0x7c5042ea44e6e78128a09f3a8b686267046b2013a7c5653e9fabbd40242f3c03')\n",
    "receipt"
   ]
  },
  {
   "cell_type": "code",
   "execution_count": null,
   "id": "711d0688",
   "metadata": {},
   "outputs": [],
   "source": [
    "receipt.logs[0]"
   ]
  },
  {
   "cell_type": "markdown",
   "id": "88953a6f",
   "metadata": {},
   "source": [
    "### Marketplace GraphQL"
   ]
  },
  {
   "cell_type": "code",
   "execution_count": null,
   "id": "3124e925",
   "metadata": {},
   "outputs": [],
   "source": [
    "USER_AGENT = \"Mozilla/5.0 (Macintosh; Intel Mac OS X 10_15_7) AppleWebKit/537.36 (KHTML, like Gecko) Chrome/91.0.4472.77 Safari/537.36\"\n",
    "headers = {\n",
    "  \"Content-Type\": \"application/json\",\n",
    "  \"User-Agent\": USER_AGENT }\n",
    "url = 'https://graphql-gateway.axieinfinity.com/graphql'"
   ]
  },
  {
   "cell_type": "code",
   "execution_count": null,
   "id": "fd88096e",
   "metadata": {},
   "outputs": [],
   "source": [
    "null = None\n",
    "auctionType = [\"All\", \"Sale\"]\n",
    "body = {\n",
    "    \"operationName\": \"GetAxieBriefList\",\n",
    "    \"variables\": {\n",
    "        \"from\":0, \"size\":2,\n",
    "        \"sort\":\"PriceAsc\", \"auctionType\":auctionType[0], \"owner\":null,\n",
    "        \"criteria\": {\n",
    "            \"region\":null, \"parts\":null, \"bodyShapes\":null, \"classes\":null, \"stages\":null,\n",
    "            \"numMystic\":null,\"pureness\":null,\"title\":null,\"breedable\":null,\"breedCount\":null,\n",
    "            \"hp\":[],\"skill\":[],\"speed\":[],\"morale\":[],\"purity\":[],\"numJapan\":null,\n",
    "            \"numXmas\":null,\"numShiny\":null,\"numSummer\":[1],\n",
    "            \"ppBeast\":null,\"ppAquatic\":null,\"ppPlant\":null,\"ppBug\":null,\n",
    "            \"ppBird\":null,\"ppReptile\":null,\"ppMech\":null,\"ppDawn\":null,\"ppDusk\":null\n",
    "        }\n",
    "    },\n",
    "    \"query\": \"query GetAxieBriefList($auctionType: AuctionType, $criteria: AxieSearchCriteria, $from: Int, $sort: SortBy, $size: Int, $owner: String) {\\n axies(\\n auctionType: $auctionType\\n criteria: $criteria\\n from: $from\\n sort: $sort\\n size: $size\\n owner: $owner\\n ) {\\n total\\n results {\\n ...AxieBrief\\n __typename\\n }\\n __typename\\n }\\n}\\n\\nfragment AxieBrief on Axie {\\n id\\n name\\n stage\\n class\\n breedCount\\n image\\n title\\n genes\\n newGenes\\n battleInfo {\\n banned\\n __typename\\n }\\n order {\\n id\\n currentPrice\\n currentPriceUsd\\n __typename\\n }\\n parts {\\n id\\n name\\n class\\n type\\n specialGenes\\n __typename\\n }\\n __typename\\n}\\n\"\n",
    "}\n",
    "response = requests.post(url=url, headers=headers, json=body)\n",
    "response, response.content"
   ]
  },
  {
   "cell_type": "code",
   "execution_count": null,
   "id": "15c24f34",
   "metadata": {},
   "outputs": [],
   "source": [
    "data = json.loads(response.content)\n",
    "list(data.keys()), list(data['data'].keys()), list(data['data']['axies'].keys())"
   ]
  },
  {
   "cell_type": "code",
   "execution_count": null,
   "id": "edc760a4",
   "metadata": {},
   "outputs": [],
   "source": [
    "total = data['data']['axies']['total']\n",
    "axies = data['data']['axies']['results']\n",
    "total, axies[0]"
   ]
  },
  {
   "cell_type": "markdown",
   "id": "0390f7f4",
   "metadata": {},
   "source": [
    "### Create MongoDB Collection"
   ]
  },
  {
   "cell_type": "code",
   "execution_count": null,
   "id": "66f69d78",
   "metadata": {},
   "outputs": [],
   "source": [
    "db.list_collection_names()"
   ]
  },
  {
   "cell_type": "code",
   "execution_count": null,
   "id": "8cee0795",
   "metadata": {},
   "outputs": [],
   "source": [
    "db['summeraxies']"
   ]
  },
  {
   "cell_type": "code",
   "execution_count": null,
   "id": "17009be9",
   "metadata": {},
   "outputs": [],
   "source": [
    "USER_AGENT = \"Mozilla/5.0 (Macintosh; Intel Mac OS X 10_15_7) AppleWebKit/537.36 (KHTML, like Gecko) Chrome/91.0.4472.77 Safari/537.36\"\n",
    "headers = {\n",
    "  \"Content-Type\": \"application/json\",\n",
    "  \"User-Agent\": USER_AGENT }\n",
    "url = 'https://graphql-gateway.axieinfinity.com/graphql'\n",
    "null = None\n",
    "auction_types = [\"All\", \"Sale\"]\n",
    "axie_classes = ['Beast', 'Aquatic', 'Plant', 'Bug', 'Bird', 'Reptile', 'Mech', 'Dawn', 'Dusk']\n",
    "\n",
    "def fetchSummerAxies(from_index=0, size=25, auction_type=\"All\", num_summer=[1], num_shiny=None, axie_class=None):\n",
    "    body = {\n",
    "        \"operationName\": \"GetAxieBriefList\",\n",
    "        \"variables\": {\n",
    "            \"from\":from_index, \"size\":size,\n",
    "            \"sort\":\"PriceAsc\", \"auctionType\":auction_type, \"owner\":None,\n",
    "            \"criteria\": {\n",
    "                \"region\":None, \"parts\":None, \"bodyShapes\":None, \"classes\":axie_class, \"stages\":None,\n",
    "                \"numMystic\":None, \"pureness\":None, \"title\":None, \"breedable\":None, \"breedCount\":None,\n",
    "                \"hp\":[], \"skill\":[], \"speed\":[], \"morale\":[], \"purity\":[], \"numJapan\":None,\n",
    "                \"numXmas\":None, \"numShiny\":num_shiny, \"numSummer\":num_summer,\n",
    "                \"ppBeast\":None, \"ppAquatic\":None, \"ppPlant\":None, \"ppBug\":None,\n",
    "                \"ppBird\":None, \"ppReptile\":None, \"ppMech\":None, \"ppDawn\":None, \"ppDusk\":None\n",
    "            }\n",
    "        },\n",
    "        \"query\": \"query GetAxieBriefList($auctionType: AuctionType, $criteria: AxieSearchCriteria, $from: Int, $sort: SortBy, $size: Int, $owner: String) {\\n axies(\\n auctionType: $auctionType\\n criteria: $criteria\\n from: $from\\n sort: $sort\\n size: $size\\n owner: $owner\\n ) {\\n total\\n results {\\n ...AxieBrief\\n __typename\\n }\\n __typename\\n }\\n}\\n\\nfragment AxieBrief on Axie {\\n id\\n name\\n stage\\n class\\n breedCount\\n image\\n title\\n genes\\n newGenes\\n battleInfo {\\n banned\\n __typename\\n }\\n order {\\n id\\n currentPrice\\n currentPriceUsd\\n __typename\\n }\\n parts {\\n id\\n name\\n class\\n type\\n specialGenes\\n __typename\\n }\\n __typename\\n}\\n\"\n",
    "    }\n",
    "    response = requests.post(url=url, headers=headers, json=body)\n",
    "    data = json.loads(response.content)\n",
    "    total = data['data']['axies']['total']\n",
    "    axies = data['data']['axies']['results']\n",
    "    return total, axies"
   ]
  },
  {
   "cell_type": "code",
   "execution_count": null,
   "id": "032c32d9",
   "metadata": {
    "scrolled": true
   },
   "outputs": [],
   "source": [
    "page_size = 24\n",
    "for num_summer in [1, 2, 3, 4, 5, 6]:\n",
    "    for axie_class in axie_classes:\n",
    "        # graphql has limits to index 10,000\n",
    "        print(f\"Fetching for {num_summer} summer parts for {axie_class}...\")\n",
    "        total, _ = fetchSummerAxies(\n",
    "            auction_type=\"All\", num_summer=[num_summer], axie_class=[axie_class]\n",
    "        )\n",
    "        for i in range(0, total, page_size):\n",
    "            print(f\"\\tfrom {i} to {i+page_size} out of {total}...\")\n",
    "            _, axies = fetchSummerAxies(\n",
    "                from_index=i, size=page_size, \n",
    "                auction_type=\"All\", num_summer=[num_summer], axie_class=[axie_class]\n",
    "            )\n",
    "            if len(axies)==0:\n",
    "                break\n",
    "            axies_annotated = []\n",
    "            for axie in axies:\n",
    "                axie['numSummer'] = num_summer\n",
    "                axie['numShiny'] = 0\n",
    "                axies_annotated.append(axie)\n",
    "            db.summeraxies.insert_many(axies_annotated)\n",
    "            time.sleep(1)\n",
    "    total_in_ql, _ = fetchSummerAxies(auction_type=\"All\", num_summer=[num_summer])\n",
    "    total_in_db = db.summeraxies.count_documents({'numSummer': num_summer})\n",
    "    print(f\"Total {total_in_ql} from query. Total {total_in_db} from database.\")"
   ]
  },
  {
   "cell_type": "code",
   "execution_count": null,
   "id": "115d71dc",
   "metadata": {},
   "outputs": [],
   "source": [
    "for num_summer in [1, 2, 3, 4, 5, 6]:\n",
    "    total_in_ql, _ = fetchSummerAxies(auction_type=\"All\", num_summer=[num_summer])\n",
    "    total_in_db = db.summeraxies.count_documents({'numSummer': num_summer})\n",
    "    print(f\"Total {total_in_ql} from query. Total {total_in_db} from database.\")"
   ]
  },
  {
   "cell_type": "code",
   "execution_count": null,
   "id": "cb63229f",
   "metadata": {},
   "outputs": [],
   "source": [
    "# cursor = db.summeraxies.aggregate(\n",
    "#     [\n",
    "#         {\"$group\": {\"_id\": \"$id\", \"unique_ids\": {\"$addToSet\": \"$_id\"}, \"count\": {\"$sum\": 1}}},\n",
    "#         {\"$match\": {\"count\": { \"$gte\": 2 }}}\n",
    "#     ]\n",
    "# )\n",
    "\n",
    "# response = []\n",
    "# for doc in cursor:\n",
    "#     del doc[\"unique_ids\"][0]\n",
    "#     for id in doc[\"unique_ids\"]:\n",
    "#         response.append(id)\n",
    "\n",
    "# db.summeraxies.delete_many({\"_id\": {\"$in\": response}})"
   ]
  },
  {
   "cell_type": "code",
   "execution_count": null,
   "id": "700d062d",
   "metadata": {},
   "outputs": [],
   "source": [
    "db.summeraxies.create_index('id')#, unique=True)"
   ]
  },
  {
   "cell_type": "markdown",
   "id": "9e27314d",
   "metadata": {},
   "source": [
    "### Grab data archive\n",
    "\n",
    "https://get.ronin.rest/export/"
   ]
  },
  {
   "cell_type": "code",
   "execution_count": null,
   "id": "24549466",
   "metadata": {
    "scrolled": true
   },
   "outputs": [],
   "source": [
    "# db.axietransfers.create_index([('axie', pm.DESCENDING), ('from', pm.TEXT)])\n",
    "db.axietransfers.create_index([('axie', pm.DESCENDING)])"
   ]
  },
  {
   "cell_type": "code",
   "execution_count": null,
   "id": "b3d19829",
   "metadata": {
    "scrolled": true
   },
   "outputs": [],
   "source": [
    "next(db.axietransfers.find().sort('created_at', pm.DESCENDING).limit(1))"
   ]
  },
  {
   "cell_type": "code",
   "execution_count": null,
   "id": "d770117c",
   "metadata": {},
   "outputs": [],
   "source": [
    "db.transactions.count_documents({})"
   ]
  },
  {
   "cell_type": "code",
   "execution_count": null,
   "id": "9d0f3fc1",
   "metadata": {},
   "outputs": [],
   "source": [
    "db.transactions.create_index([('block', pm.DESCENDING), ('to', pm.TEXT)])"
   ]
  },
  {
   "cell_type": "code",
   "execution_count": null,
   "id": "44f6f9b7",
   "metadata": {
    "scrolled": true
   },
   "outputs": [],
   "source": [
    "next(db.transactions.find().sort('created_at', pm.DESCENDING).limit(1))"
   ]
  },
  {
   "cell_type": "markdown",
   "id": "d30c7c18",
   "metadata": {},
   "source": [
    "### Get axie mint"
   ]
  },
  {
   "cell_type": "code",
   "execution_count": null,
   "id": "fdc60570",
   "metadata": {},
   "outputs": [],
   "source": [
    "summer_axie = db.summeraxies.find_one()\n",
    "summer_axie['id']"
   ]
  },
  {
   "cell_type": "code",
   "execution_count": null,
   "id": "b035d862",
   "metadata": {},
   "outputs": [],
   "source": [
    "import pprint as pp\n",
    "\n",
    "axie_mint = db.axietransfers.find_one(\n",
    "    {'axie': int(summer_axie['id']), 'from': '0x0000000000000000000000000000000000000000'}\n",
    ")\n",
    "axie_mint"
   ]
  },
  {
   "cell_type": "code",
   "execution_count": null,
   "id": "6812ae20",
   "metadata": {},
   "outputs": [],
   "source": [
    "f = open(\"axie-abi.json\", \"r\")\n",
    "lines = f.read()\n",
    "abi_str = json.dumps(json.loads(lines))\n",
    "contract_axie = web3.eth.contract(address=contract_address_axie, abi=abi_str)"
   ]
  },
  {
   "cell_type": "code",
   "execution_count": null,
   "id": "9612c797",
   "metadata": {},
   "outputs": [],
   "source": [
    "set([abi['type'] for abi in contract_axie.abi if 'type' in abi])"
   ]
  },
  {
   "cell_type": "code",
   "execution_count": null,
   "id": "5ed1e3a3",
   "metadata": {},
   "outputs": [],
   "source": [
    "function_breed = contract_axie.find_functions_by_name('breedAxies')[0]\n",
    "function_breed"
   ]
  },
  {
   "cell_type": "code",
   "execution_count": null,
   "id": "d86021fd",
   "metadata": {},
   "outputs": [],
   "source": [
    "contract_address_axie, contract_address_axs, contract_address_slp"
   ]
  },
  {
   "cell_type": "code",
   "execution_count": null,
   "id": "bdd7b835",
   "metadata": {},
   "outputs": [],
   "source": [
    "def breed_tx_for_axie(axie_id):\n",
    "    axie_mint = db.axietransfers.find_one(\n",
    "        {'axie': axie_id, 'from': '0x0000000000000000000000000000000000000000'}\n",
    "    )\n",
    "    if not axie_mint:\n",
    "        print(f\"No mint tx for axie {axie_id} in DB.\")\n",
    "        return\n",
    "    cursor = db.transactions.find({\n",
    "        'block': axie_mint['block'],\n",
    "        'to': contract_address_axie.lower()\n",
    "    })\n",
    "    for tx in cursor:\n",
    "        tx_whole = web3.eth.get_transaction(tx['hash'])\n",
    "        try:\n",
    "            tx_input = contract_axie.decode_function_input(tx_whole.input)\n",
    "        except:\n",
    "#             print(f\"\\nUnrecognized function for tx hash {tx['hash']}\\n\")\n",
    "            continue\n",
    "        if str(tx_input[0])==str(function_breed):\n",
    "            sire_id = tx_input[1]['_sireId']\n",
    "            matron_id = tx_input[1]['_matronId']\n",
    "            receipt = web3.eth.get_transaction_receipt(tx['hash'])\n",
    "            axie_spawn = contract_axie.events.AxieSpawn().processReceipt(receipt)\n",
    "            if len(axie_spawn) > 0 and axie_id==axie_spawn[0]['args']['_axieId']:\n",
    "                fee_axs = fee_slp = 0\n",
    "                for log in receipt.logs:\n",
    "                    if log.address==contract_address_axs:\n",
    "                        fee_axs = int(log.data, 16) / 10**18\n",
    "                    elif log.address==contract_address_slp:\n",
    "                        fee_slp = int(log.data, 16)\n",
    "                tx_db = db.transactions.find_one({'hash': tx_whole['hash'].hex()})\n",
    "                created_at = tx_db['created_at']\n",
    "                return {\n",
    "                    'blockNumber': tx_whole['blockNumber'],\n",
    "                    'createdAt': created_at,\n",
    "                    'hash': tx_whole['hash'],\n",
    "                    'from': tx_whole['from'],\n",
    "                    'gas': tx_whole['gas'],\n",
    "                    'sireId': sire_id,\n",
    "                    'matronId': matron_id,\n",
    "                    'feeAxs': fee_axs,\n",
    "                    'feeSlp': fee_slp\n",
    "                }"
   ]
  },
  {
   "cell_type": "code",
   "execution_count": null,
   "id": "c56e8233",
   "metadata": {
    "scrolled": false
   },
   "outputs": [],
   "source": [
    "breed_tx_for_axie(11354512)"
   ]
  },
  {
   "cell_type": "code",
   "execution_count": null,
   "id": "ce84a833",
   "metadata": {
    "scrolled": true
   },
   "outputs": [],
   "source": [
    "total_count = db.summeraxies.count_documents({})\n",
    "cursor = db.summeraxies.find()\n",
    "for i, summer_axie in enumerate(cursor):\n",
    "    if 'breedTx' in summer_axie:\n",
    "        continue\n",
    "    print(f\"\\r{i+1}/{total_count}\", end='')\n",
    "    if 'breedTx' in summer_axie:\n",
    "        continue\n",
    "    breed_tx = breed_tx_for_axie(int(summer_axie['id']))\n",
    "    db.summeraxies.update_one(\n",
    "        {'_id': summer_axie['_id']},\n",
    "        {'$set': {'breedTx': breed_tx}}\n",
    "    )"
   ]
  },
  {
   "cell_type": "code",
   "execution_count": null,
   "id": "2847fa7e",
   "metadata": {},
   "outputs": [],
   "source": [
    "from IPython.display import Audio\n",
    "sound_file = './sound/mixkit-arcade-bonus-alert-767.wav'\n",
    "\n",
    "Audio(sound_file, autoplay=True)"
   ]
  },
  {
   "cell_type": "markdown",
   "id": "86e77bc3",
   "metadata": {},
   "source": [
    "# Usage"
   ]
  },
  {
   "cell_type": "code",
   "execution_count": null,
   "id": "6befb389",
   "metadata": {},
   "outputs": [],
   "source": [
    "db.summeraxies.find_one()"
   ]
  },
  {
   "cell_type": "code",
   "execution_count": null,
   "id": "225438d1",
   "metadata": {},
   "outputs": [],
   "source": [
    "import pandas as pd\n",
    "\n",
    "cursor = db.summeraxies.find()\n",
    "summer_axies = pd.DataFrame()\n",
    "for tx in cursor:\n",
    "    if tx['breedTx']==None:\n",
    "        continue\n",
    "    axie_attributes = {\n",
    "        'axieId': tx['id'],\n",
    "        'numSummer': tx['numSummer'],\n",
    "        'numShiny': tx['numShiny'],\n",
    "        'createdAt': tx['breedTx']['createdAt'],\n",
    "        'createDate': tx['breedTx']['createdAt'].date(),\n",
    "        'txHash': tx['breedTx']['hash'],\n",
    "        'breeder': tx['breedTx']['from'],\n",
    "        'sireId': tx['breedTx']['sireId'],\n",
    "        'matronId': tx['breedTx']['matronId'],\n",
    "        'feeAxs': tx['breedTx']['feeAxs'],\n",
    "        'feeSlp': tx['breedTx']['feeSlp']\n",
    "    }\n",
    "    for part in tx['parts']:\n",
    "        if part['type'] == 'Eyes':\n",
    "            axie_attributes['part_eyes'] = part['id']\n",
    "        elif part['type'] == 'Ears':\n",
    "            axie_attributes['part_eyes'] = part['id']\n",
    "        elif part['type'] == 'Back':\n",
    "            axie_attributes['part_eyes'] = part['id']\n",
    "        elif part['type'] == 'Mouth':\n",
    "            axie_attributes['part_eyes'] = part['id']\n",
    "        elif part['type'] == 'Horn':\n",
    "            axie_attributes['part_eyes'] = part['id']\n",
    "        elif part['type'] == 'Tail':\n",
    "            axie_attributes['part_eyes'] = part['id']\n",
    "    summer_axies = pd.concat(\n",
    "        [summer_axies, pd.DataFrame(axie_attributes, index=[0])],\n",
    "        ignore_index=True\n",
    "    )\n",
    "summer_axies"
   ]
  },
  {
   "cell_type": "code",
   "execution_count": null,
   "id": "1879588a",
   "metadata": {},
   "outputs": [],
   "source": [
    "usage_by_date = summer_axies.groupby(by='createDate').count()\\\n",
    "    .reset_index()\\\n",
    "    .filter(['createDate', 'axieId'])\\\n",
    "    .rename(columns={'axieId': 'count'})\n",
    "usage_by_date"
   ]
  },
  {
   "cell_type": "code",
   "execution_count": null,
   "id": "ba358d0c",
   "metadata": {},
   "outputs": [],
   "source": [
    "import plotly.graph_objects as go\n",
    "\n",
    "fig = go.Figure(go.Scatter(x=usage_by_date['createDate'], y=usage_by_date['count']))\n",
    "fig.update_layout(\n",
    "    template='plotly_white',\n",
    "    width=400, height=300,\n",
    "    margin={'l':10, 'r':10, 't':60, 'b':10},\n",
    "    yaxis_title='count',\n",
    "    title='Summer axies bred (only successful breeds)'\n",
    ")\n",
    "fig.show()"
   ]
  },
  {
   "cell_type": "code",
   "execution_count": null,
   "id": "be3e377c",
   "metadata": {},
   "outputs": [],
   "source": [
    "breeder_count = summer_axies.groupby(by='breeder').count()\\\n",
    "    .reset_index()\\\n",
    "    .filter(['breeder', 'numSummer'])\\\n",
    "    .rename(columns={'numSummer': 'count'})\n",
    "breeder_count"
   ]
  },
  {
   "cell_type": "code",
   "execution_count": null,
   "id": "70ac458d",
   "metadata": {},
   "outputs": [],
   "source": [
    "import numpy as np\n",
    "\n",
    "hist, bin_edges = np.histogram(\n",
    "    breeder_count['count'], \n",
    "    bins=np.logspace(np.log10(1), np.log10(breeder_count['count'].max()),40)\n",
    ")\n",
    "fig = go.Figure(go.Scatter(x=bin_edges, y=hist, mode='markers'))\n",
    "fig.update_layout(\n",
    "    template='plotly_white', width=400, height=400,\n",
    "    margin={'l':10, 'r':10, 't':60, 'b':10},\n",
    "    xaxis={'title': 'number of breeds', 'type': 'log'},\n",
    "    yaxis={'title': 'number of breeders', 'type': 'log'},\n",
    "    title='Breeds per breeder'\n",
    ")\n",
    "fig.show()"
   ]
  },
  {
   "cell_type": "code",
   "execution_count": null,
   "id": "50119374",
   "metadata": {},
   "outputs": [],
   "source": [
    "usage_user_days = summer_axies.groupby(by=['createDate', 'breeder']).count()\\\n",
    "    .reset_index()\\\n",
    "    .filter(['createDate', 'breeder', 'numSummer'])\\\n",
    "    .rename(columns={'numSummer': 'count'})\n",
    "usage_user_days"
   ]
  },
  {
   "cell_type": "code",
   "execution_count": null,
   "id": "cbf5a152",
   "metadata": {},
   "outputs": [],
   "source": [
    "usage_user_days\n",
    "import numpy as np\n",
    "\n",
    "hist, bin_edges = np.histogram(\n",
    "    usage_user_days['count'], \n",
    "    bins=np.logspace(np.log10(1), np.log10(usage_user_days['count'].max()), 40)\n",
    ")\n",
    "fig = go.Figure(go.Scatter(x=bin_edges, y=hist, mode='markers'))\n",
    "fig.update_layout(\n",
    "    template='plotly_white', width=400, height=400,\n",
    "    margin={'l':10, 'r':10, 't':60, 'b':10},\n",
    "    xaxis={'title': 'number of breeds', 'type': 'log'},\n",
    "    yaxis={'title': 'number of days', 'type': 'log'},\n",
    "    title='Breeds per day (per breeder)'\n",
    ")\n",
    "fig.show()"
   ]
  },
  {
   "cell_type": "code",
   "execution_count": null,
   "id": "aab04fd8",
   "metadata": {},
   "outputs": [],
   "source": [
    "usage_days = usage_user_days.groupby('breeder').count()\\\n",
    "    .reset_index()\\\n",
    "    .drop('createDate', axis=1)\n",
    "usage_days"
   ]
  },
  {
   "cell_type": "code",
   "execution_count": null,
   "id": "999f4d8c",
   "metadata": {},
   "outputs": [],
   "source": [
    "hist, bin_edges = np.histogram(\n",
    "    usage_days['count'], \n",
    "    bins=np.logspace(np.log10(1), np.log10(usage_days['count'].max()), 40)\n",
    ")\n",
    "fig = go.Figure(go.Scatter(x=bin_edges, y=hist, mode='markers'))\n",
    "fig.update_layout(\n",
    "    template='plotly_white', width=400, height=400,\n",
    "    margin={'l':10, 'r':10, 't':60, 'b':10},\n",
    "    xaxis={'title': 'number of days', 'type': 'log'},\n",
    "    yaxis={'title': 'number of breeders', 'type': 'log'},\n",
    "    title='Breeding days (per breeder)'\n",
    ")\n",
    "fig.show()\n",
    "\n",
    "hist = hist / sum(hist)\n",
    "fig = go.Figure(go.Scatter(x=bin_edges, y=hist, mode='markers'))\n",
    "fig.update_layout(\n",
    "    template='plotly_white', width=400, height=400,\n",
    "    margin={'l':10, 'r':10, 't':60, 'b':10},\n",
    "    xaxis={'title': 'number of days', 'type': 'log'},\n",
    "    yaxis={'title': 'P(days)', 'type': 'log'},\n",
    "    title='Breeding days (per breeder)'\n",
    ")\n",
    "fig.show()"
   ]
  },
  {
   "cell_type": "code",
   "execution_count": null,
   "id": "d663d905",
   "metadata": {},
   "outputs": [],
   "source": [
    "import requests\n",
    "import time\n",
    "\n",
    "summer_dates = summer_axies['createDate'].sort_values().unique()\n",
    "\n",
    "axs_prices = []\n",
    "slp_prices = []\n",
    "for date in summer_dates:\n",
    "    url_axs = \"https://api.coingecko.com/api/v3/coins/axie-infinity/history?date=\" + date.strftime(\"%d-%m-%Y\")\n",
    "    r = requests.get(url_axs)\n",
    "    axs_usd = r.json()['market_data']['current_price']['usd']\n",
    "    axs_prices += [axs_usd]\n",
    "    url_slp = \"https://api.coingecko.com/api/v3/coins/smooth-love-potion/history?date=\" + date.strftime(\"%d-%m-%Y\")\n",
    "    r = requests.get(url_slp)\n",
    "    slp_usd = r.json()['market_data']['current_price']['usd']\n",
    "    slp_prices += [slp_usd]\n",
    "    time.sleep(5)\n",
    "prices = pd.DataFrame({'date':summer_dates, 'AXS':axs_prices, 'SLP':slp_prices})\n",
    "prices"
   ]
  },
  {
   "cell_type": "code",
   "execution_count": null,
   "id": "de058d31",
   "metadata": {},
   "outputs": [],
   "source": [
    "# prices.to_csv('prices_summer_axs_slp.csv')"
   ]
  },
  {
   "cell_type": "code",
   "execution_count": null,
   "id": "f7fbd18b",
   "metadata": {},
   "outputs": [],
   "source": [
    "# prices = pd.read_csv('prices_summer_axs_slp.csv')"
   ]
  },
  {
   "cell_type": "code",
   "execution_count": null,
   "id": "772991ec",
   "metadata": {},
   "outputs": [],
   "source": [
    "import datetime as dt\n",
    "\n",
    "fees_daily = summer_axies\\\n",
    "    .filter(['createDate', 'feeAxs', 'feeSlp'])\\\n",
    "    .groupby('createDate').sum()\\\n",
    "    .reset_index()\n",
    "fees_daily['feeAxsInUsd'] = fees_daily['feeAxs'] * prices['AXS']\n",
    "fees_daily['feeSlpInUsd'] = fees_daily['feeSlp'] * prices['SLP']\n",
    "fees_daily = fees_daily[fees_daily['createDate'] > dt.date(2022, 7, 10)]\n",
    "fees_daily"
   ]
  },
  {
   "cell_type": "code",
   "execution_count": null,
   "id": "ff7beba2",
   "metadata": {},
   "outputs": [],
   "source": [
    "fig = go.Figure(\n",
    "    go.Scatter(\n",
    "        x=fees_daily['createDate'], y=fees_daily['feeAxsInUsd'] + fees_daily['feeSlpInUsd']\n",
    "    )\n",
    ")\n",
    "fig.update_layout(\n",
    "    template='plotly_white', width=400, height=300,\n",
    "    margin={'l':10, 'r':10, 't':60, 'b':10},\n",
    "    yaxis={'title': 'number of axies burned'},\n",
    "    title='Fees combined (Lunacian Summer)'\n",
    ")\n",
    "fig.show()"
   ]
  },
  {
   "cell_type": "code",
   "execution_count": null,
   "id": "a227614e",
   "metadata": {},
   "outputs": [],
   "source": [
    "import datetime as dt\n",
    "from plotly.subplots import make_subplots\n",
    "\n",
    "fig = make_subplots(specs=[[{\"secondary_y\": True}]])\n",
    "fig.add_trace(go.Scatter(x=fees_daily['createDate'], y=fees_daily['feeAxsInUsd'], name='AXS fees'))\n",
    "fig.add_trace(go.Scatter(\n",
    "    x=fees_daily['createDate'], y=fees_daily['feeSlpInUsd'], name='SLP fees'), secondary_y=True)\n",
    "fig.update_layout(\n",
    "    template='plotly_white', width=480, height=300,\n",
    "    margin={'l':10, 'r':10, 't':60, 'b':10},\n",
    "    yaxis={'title': 'value burned $'},#, 'type': 'log'},\n",
    "    title='Fees (Lunacian Summer)'\n",
    ")\n",
    "# fig.update_yaxes(type='log', secondary_y=True)\n",
    "fig.show()\n",
    "\n",
    "fig = go.Figure(\n",
    "    go.Scatter(\n",
    "        x=fees_daily['createDate'], y=fees_daily['feeAxsInUsd'] + fees_daily['feeSlpInUsd']\n",
    "    )\n",
    ")\n",
    "fig.update_layout(\n",
    "    template='plotly_white', width=400, height=300,\n",
    "    margin={'l':10, 'r':10, 't':60, 'b':10},\n",
    "    yaxis={'title': 'number of axies burned'},\n",
    "    title='Fees combined (Lunacian Summer)'\n",
    ")\n",
    "fig.show()"
   ]
  },
  {
   "cell_type": "code",
   "execution_count": null,
   "id": "3076396d",
   "metadata": {},
   "outputs": [],
   "source": [
    "total_axs_sunk = fees_daily['feeAxs'].sum()\n",
    "total_slp_sunk = fees_daily['feeSlp'].sum()\n",
    "total_axs_usd_sunk = fees_daily['feeAxsInUsd'].sum()\n",
    "total_slp_usd_sunk = fees_daily['feeSlpInUsd'].sum()\n",
    "total_usd_sunk = total_axs_usd_sunk + total_slp_usd_sunk\n",
    "print(f\"{total_axs_sunk:,.1f} AXS = ${total_axs_usd_sunk:,.2f}\")\n",
    "print(f\"{total_slp_sunk:,d} SLP = ${total_slp_usd_sunk:,.2f}\")\n",
    "print(f\"\\t= ${total_usd_sunk:,.2f}\")"
   ]
  },
  {
   "cell_type": "code",
   "execution_count": null,
   "id": "57b48827",
   "metadata": {},
   "outputs": [],
   "source": [
    "import math\n",
    "\n",
    "slp_usage = summer_axies\\\n",
    "    .filter(['createDate', 'feeSlp'])\\\n",
    "    .groupby('createDate').mean().reset_index()\n",
    "slp_usage['count'] = summer_axies\\\n",
    "    .filter(['createDate', 'feeSlp'])\\\n",
    "    .groupby('createDate').count().reset_index()['feeSlp']\n",
    "slp_usage['std'] = summer_axies\\\n",
    "    .filter(['createDate', 'feeSlp'])\\\n",
    "    .groupby('createDate').std().reset_index()['feeSlp']\n",
    "slp_usage['stderr'] = slp_usage['std'] / np.sqrt(slp_usage['count'].values)\n",
    "\n",
    "fig = go.Figure()\n",
    "fig.add_trace(go.Scatter(x=slp_usage['createDate'], y=slp_usage['feeSlp']))\n",
    "# fig.add_trace(go.Scatter(\n",
    "#     x=slp_usage['createDate'].append(slp_usage['createDate'].sort_values(ascending=False)),\n",
    "#     y=(slp_usage['feeSlp'] + slp_usage['stderr']).append(slp_usage['feeSlp'] - slp_usage['stderr']),\n",
    "#     fill='tozerox'\n",
    "# ))\n",
    "fig.update_layout(\n",
    "    template='plotly_white', width=500, height=400,\n",
    "    margin={'l':10, 'r':10, 't':60, 'b':10},\n",
    "    yaxis={'title': 'SLP', 'range': [0, slp_usage['feeSlp'].max()]},\n",
    "    title='Average SLP used per breed (Lunacian Summer)'\n",
    ")\n",
    "fig.show()"
   ]
  },
  {
   "cell_type": "code",
   "execution_count": null,
   "id": "5d357b5f",
   "metadata": {},
   "outputs": [],
   "source": [
    "breeds = summer_axies\\\n",
    "    .filter(['numSummer', 'createDate', 'breeder'])\\\n",
    "    .groupby(['breeder', 'numSummer']).count()\\\n",
    "    .reset_index()\\\n",
    "    .rename(columns={'createDate': 'count'})\n",
    "breeds.sort_values(by='count', ascending=False)"
   ]
  },
  {
   "cell_type": "markdown",
   "id": "24b580ec",
   "metadata": {},
   "source": [
    "2022/08/26\n",
    "\n",
    "Thoughts\n",
    "- Goal for design is to make slope flatter\n",
    "    - So reward behavior at tails.\n",
    "    - Compare the two events. Slopes.\n",
    "- LS is a feedback loop. Illustration.\n",
    "    - getting reward & reward being liquid (market, LE need to claim)\n",
    "- LE tanks the market. LS is slower.\n",
    "    - length of breeding event should have been shorter. - Kyroh\n",
    "        - breeders selling to breeders?\n",
    "        - point out in process\n",
    "\n",
    "---\n",
    "\n",
    "To-do\n",
    "- [ ] Get all breed attempts\n",
    "- [ ] How much money did people spend? versus event participation? opportunity cost?\n",
    "- [ ] Secondary sales\n",
    "- [ ] Profitable in the beginning versus end. Did they get greedy?\n",
    "    - participation = f(EV)\n",
    "- [ ] Who is selling versus holding\n",
    "    - how does distribution change over time, per person\n",
    "    - basal archetype\n",
    "        - trader, breeder: sell at end\n",
    "        - collector: buy at end\n",
    "        - clustering of archetypes\n",
    "    - [ ] Do the initial rolls affect behavior?\n",
    "- [ ] model the demand curve?\n",
    "- [ ] what percentage of breeds were lunacian summer breeds?\n",
    "\n",
    "---\n",
    "\n",
    "Set up\n",
    "- [ ] Google Doc for paper\n",
    "- [ ] Notion for notes\n",
    "  \n",
    "---------\n",
    "  \n",
    "- LTV mining versus retention\n",
    "- Kitty Inu, no community, UA + retention"
   ]
  },
  {
   "cell_type": "markdown",
   "id": "5dd0e602",
   "metadata": {},
   "source": [
    "### All breeds..."
   ]
  },
  {
   "cell_type": "code",
   "execution_count": null,
   "id": "75c0cd8f",
   "metadata": {},
   "outputs": [],
   "source": [
    "db.transactions.find_one()"
   ]
  },
  {
   "cell_type": "code",
   "execution_count": null,
   "id": "a33e70eb",
   "metadata": {},
   "outputs": [],
   "source": [
    "import datetime as dt\n",
    "\n",
    "db.transactions.find_one({\n",
    "    'to': contract_address_axie.lower(),\n",
    "    'created_at': {'$gt': dt.datetime(2022, 7, 14, 0, 0, 0)}\n",
    "})"
   ]
  },
  {
   "cell_type": "code",
   "execution_count": null,
   "id": "67137138",
   "metadata": {},
   "outputs": [],
   "source": [
    "from web3 import Web3, contract\n",
    "import json, requests\n",
    "\n",
    "USER_AGENT = \"Mozilla/5.0 (Macintosh; Intel Mac OS X 10_15_7) AppleWebKit/537.36 (KHTML, like Gecko) Chrome/91.0.4472.77 Safari/537.36\"\n",
    "headers = {\n",
    "  \"Content-Type\": \"application/json\",\n",
    "  \"User-Agent\": USER_AGENT }\n",
    "\n",
    "web3 = Web3(Web3.HTTPProvider('https://api.roninchain.com/rpc', request_kwargs={ \"headers\": headers }))"
   ]
  },
  {
   "cell_type": "code",
   "execution_count": null,
   "id": "b4853648",
   "metadata": {},
   "outputs": [],
   "source": [
    "contract_address_axie = Web3.toChecksumAddress('0x32950db2a7164ae833121501c797d79e7b79d74c')\n",
    "contract_address_axs = Web3.toChecksumAddress('0x97a9107c1793bc407d6f527b77e7fff4d812bece')\n",
    "contract_address_slp = Web3.toChecksumAddress('0xa8754b9fa15fc18bb59458815510e40a12cd2014')\n",
    "contract_address_axie, contract_address_axs, contract_address_slp"
   ]
  },
  {
   "cell_type": "code",
   "execution_count": null,
   "id": "65e1d8ae",
   "metadata": {},
   "outputs": [],
   "source": [
    "f = open(\"node_modules/ronin-tx-decoder/abi/axieContract.abi\", \"r\")\n",
    "lines = f.read()\n",
    "abi_str = json.dumps(json.loads(lines))\n",
    "contract_axie = web3.eth.contract(address=contract_address_axie, abi=abi_str)"
   ]
  },
  {
   "cell_type": "code",
   "execution_count": null,
   "id": "94634f3f",
   "metadata": {},
   "outputs": [],
   "source": [
    "USER_AGENT = \"Mozilla/5.0 (Macintosh; Intel Mac OS X 10_15_7) AppleWebKit/537.36 (KHTML, like Gecko) Chrome/91.0.4472.77 Safari/537.36\"\n",
    "headers = {\n",
    "  \"Content-Type\": \"application/json\",\n",
    "  \"User-Agent\": USER_AGENT }\n",
    "url = 'https://graphql-gateway.axieinfinity.com/graphql'\n",
    "null = None\n",
    "auction_types = [\"All\", \"Sale\"]\n",
    "axie_classes = [\n",
    "    'Beast', 'Aquatic', 'Plant', 'Bug', 'Bird', 'Reptile', 'Mech', 'Dawn', 'Dusk']\n",
    "\n",
    "def getAxieDetail(axie_id):\n",
    "    body = {\n",
    "        \"operationName\": \"GetAxieDetail\",\n",
    "        \"variables\": {\n",
    "            \"axieId\": axie_id,\n",
    "        },\n",
    "#         \"query\": \"query GetAxieDetail($axieId: ID!) {\\n  axie(axieId: $axieId) {\\n    ...AxieDetail\\n    __typename\\n  }\\n}\\n\\nfragment AxieDetail on Axie {\\n  id\\n  image\\n  class\\n  chain\\n  name\\n  genes\\n  newGenes\\n  owner\\n  birthDate\\n  bodyShape\\n  class\\n  sireId\\n  sireClass\\n  matronId\\n  matronClass\\n  stage\\n  title\\n  breedCount\\n  level\\n  figure {\\n    atlas\\n    model\\n    image\\n    __typename\\n  }\\n  parts {\\n    ...AxiePart\\n    __typename\\n  }\\n  stats {\\n    ...AxieStats\\n    __typename\\n  }\\n  order {\\n    ...OrderInfo\\n    __typename\\n  }\\n  ownerProfile {\\n    name\\n    __typename\\n  }\\n  battleInfo {\\n    ...AxieBattleInfo\\n    __typename\\n  }\\n  children {\\n    id\\n    name\\n    class\\n    image\\n    title\\n    stage\\n    __typename\\n  }\\n  potentialPoints {\\n    beast\\n    aquatic\\n    plant\\n    bug\\n    bird\\n    reptile\\n    mech\\n    dawn\\n    dusk\\n    __typename\\n  }\\n  __typename\\n}\\n\\nfragment AxieBattleInfo on AxieBattleInfo {\\n  banned\\n  banUntil\\n  level\\n  __typename\\n}\\n\\nfragment AxiePart on AxiePart {\\n  id\\n  name\\n  class\\n  type\\n  specialGenes\\n  stage\\n  abilities {\\n    ...AxieCardAbility\\n    __typename\\n  }\\n  __typename\\n}\\n\\nfragment AxieCardAbility on AxieCardAbility {\\n  id\\n  name\\n  attack\\n  defense\\n  energy\\n  description\\n  backgroundUrl\\n  effectIconUrl\\n  __typename\\n}\\n\\nfragment AxieStats on AxieStats {\\n  hp\\n  speed\\n  skill\\n  morale\\n  __typename\\n}\\n\\nfragment OrderInfo on Order {\\n  id\\n  maker\\n  kind\\n  assets {\\n    ...AssetInfo\\n    __typename\\n  }\\n  expiredAt\\n  paymentToken\\n  startedAt\\n  basePrice\\n  endedAt\\n  endedPrice\\n  expectedState\\n  nonce\\n  marketFeePercentage\\n  signature\\n  hash\\n  duration\\n  timeLeft\\n  currentPrice\\n  suggestedPrice\\n  currentPriceUsd\\n  __typename\\n}\\n\\nfragment AssetInfo on Asset {\\n  erc\\n  address\\n  id\\n  quantity\\n  orderId\\n  __typename\\n}\\n\"\n",
    "        \"query\": \"query GetAxieDetail($axieId: ID!) {\\n  axie(axieId: $axieId) {\\n    ...AxieDetail\\n    __typename\\n  }\\n}\\n\\nfragment AxieDetail on Axie {\\n class\\n  genes\\n  newGenes\\n  owner\\n  bodyShape\\n  class\\n  sireId\\n  matronId\\n parts {\\n    ...AxiePart\\n    __typename\\n  }\\n   __typename\\n}\\n\\nfragment AxiePart on AxiePart {\\n  id\\n  name\\n  class\\n  type\\n  specialGenes\\n  stage\\n  __typename\\n}\\n\\n\"\n",
    "    }\n",
    "    response = requests.post(url=url, headers=headers, json=body)\n",
    "    data = json.loads(response.content)\n",
    "    return data['data']['axie']\n",
    "\n",
    "def getAxieParts(axie):\n",
    "    parts = {}\n",
    "    for part in axie['parts']:\n",
    "        parts[part['type']] = part['id']\n",
    "    return parts\n",
    "\n",
    "# https://axie.substack.com/p/summerskins\n",
    "# shiny skins have '-shiny' at the end\n",
    "summer_parts = {\n",
    "    'Horn': [\n",
    "        'horn-watermelon-ice-cream',\n",
    "        'horn-strawberry-ice-cream',\n",
    "        'horn-vanilla-ice-cream'\n",
    "    ],\n",
    "    'Back': [\n",
    "        'back-turtle-buoy',\n",
    "        'back-beach-ball',\n",
    "    ],\n",
    "    'Eyes': [\n",
    "        'eyes-flower-sunglasses',\n",
    "    ],\n",
    "    'Mouth': [\n",
    "        'mouth-bubble-fish',\n",
    "    ],\n",
    "    'Tail': [\n",
    "        'tail-cotton-candy',\n",
    "    ],\n",
    "    'Ears': [\n",
    "        'ears-coca',\n",
    "    ]\n",
    "}\n",
    "\n",
    "def isSummerAttempt(parts_sire, parts_matron):\n",
    "    # if sire or matron has summer part, is summer attempt\n",
    "    for key, parts in summer_parts.items():\n",
    "        if parts_sire[key] in parts:\n",
    "            return True\n",
    "        if parts_matron[key] in parts:\n",
    "            return True\n",
    "    # check individual combinations\n",
    "    if ('watermelon' in parts_sire['Horn'] and 'unko' in parts_matron['Horn']) or\\\n",
    "        ('watermelon' in parts_matron['Horn'] and 'unko' in parts_sire['Horn']):\n",
    "        return True\n",
    "    if ('strawberry-shortcake' in parts_sire['Horn'] and 'unko' in parts_matron['Horn']) or\\\n",
    "        ('strawberry-shortcake' in parts_matron['Horn'] and 'unko' in parts_sire['Horn']):\n",
    "        return True\n",
    "    if ('eggshell' in parts_sire['Horn'] and 'unko' in parts_matron['Horn']) or\\\n",
    "        ('eggshell' in parts_matron['Horn'] and 'unko' in parts_sire['Horn']):\n",
    "        return True\n",
    "    if ('balloon' in parts_sire['Horn'] and 'red-ear' in parts_matron['Back']) or\\\n",
    "        ('balloon' in parts_matron['Horn'] and 'red-ear' in parts_sire['Back']):\n",
    "        return True\n",
    "    if ('balloon' in parts_sire['Back'] and 'furball' in parts_matron['Back']) or\\\n",
    "        ('balloon' in parts_matron['Back'] and 'furball' in parts_sire['Back']):\n",
    "        return True\n",
    "    if ('blossom' in parts_sire['Eyes'] and 'neo' in parts_matron['Eyes']) or\\\n",
    "        ('blossom' in parts_sire['Eyes'] and 'neo' in parts_matron['Eyes']):\n",
    "        return True\n",
    "    if ('silence-whisper' in parts_sire['Mouth'] and 'risky-fish' in parts_matron['Mouth']) or\\\n",
    "        ('silence-whisper' in parts_sire['Mouth'] and 'risky-fish' in parts_matron['Mouth']):\n",
    "        return True\n",
    "    if ('cloud' in parts_sire['Tail'] and 'cottontail' in parts_matron['Tail']) or\\\n",
    "        ('cloud' in parts_matron['Tail'] and 'cottontail' in parts_sire['Tail']):\n",
    "        return True\n",
    "    if ('seaslug' in parts_sire['Ears'] and 'nyan' in parts_matron['Ears']) or\\\n",
    "        ('seaslug' in parts_matron['Ears'] and 'nyan' in parts_sire['Ears']):\n",
    "        return True\n",
    "    return False\n",
    "    "
   ]
  },
  {
   "cell_type": "code",
   "execution_count": null,
   "id": "ee370960",
   "metadata": {},
   "outputs": [],
   "source": [
    "receipt = web3.eth.get_transaction_receipt(\n",
    "    '0x033f3bc3dc4d42c50674313bd0dbb58639063834f6b7370f19e6670ff137abd1')\n",
    "axie_spawn = contract_axie.events.AxieSpawn().processReceipt(receipt)\n",
    "axie_breed = contract\n",
    "axie_spawn"
   ]
  },
  {
   "cell_type": "code",
   "execution_count": null,
   "id": "e2dc139f",
   "metadata": {},
   "outputs": [],
   "source": [
    "tx_whole = web3.eth.get_transaction(\n",
    "    '0x033f3bc3dc4d42c50674313bd0dbb58639063834f6b7370f19e6670ff137abd1')\n",
    "tx_input = contract_axie.decode_function_input(tx_whole.input)\n",
    "tx_input"
   ]
  },
  {
   "cell_type": "code",
   "execution_count": null,
   "id": "2fcde8be",
   "metadata": {},
   "outputs": [],
   "source": [
    "tx_input[1]['_sireId']"
   ]
  },
  {
   "cell_type": "code",
   "execution_count": null,
   "id": "51809025",
   "metadata": {},
   "outputs": [],
   "source": [
    "axie = getAxieDetail(2333356)\n",
    "parts = getAxieParts(axie)\n",
    "parts, axie['sireId']"
   ]
  },
  {
   "cell_type": "code",
   "execution_count": null,
   "id": "628cd432",
   "metadata": {},
   "outputs": [],
   "source": [
    "sire_id, matron_id = tx_input[1]['_sireId'], tx_input[1]['_matronId']\n",
    "sire = getAxieDetail(sire_id)\n",
    "matron = getAxieDetail(matron_id)\n",
    "parts_sire = getAxieParts(sire)\n",
    "parts_matron = getAxieParts(matron)\n",
    "isSummerAttempt(parts_sire, parts_matron)"
   ]
  },
  {
   "cell_type": "code",
   "execution_count": null,
   "id": "e90b877e",
   "metadata": {},
   "outputs": [],
   "source": [
    "getAxieParts(getAxieDetail(sire_id)), getAxieParts(getAxieDetail(matron_id))"
   ]
  },
  {
   "cell_type": "code",
   "execution_count": null,
   "id": "1f92c29c",
   "metadata": {},
   "outputs": [],
   "source": [
    "# testing\n",
    "summer1 = '0xcd8649f564f5dee7f52c61c22934ad1929144c072bebd6922b19d897196a63ba'\n",
    "summer2 = '0x033f3bc3dc4d42c50674313bd0dbb58639063834f6b7370f19e6670ff137abd1'\n",
    "summer3 = '0x9b2fe15da5ac8b60692723874a4c91613777a9b9a7c09ca48d80e34644473c57'\n",
    "non1 = '0xc4618f712fad8efa13c25ec62f07e10169a314cd69e714b6611fbb3d52e72b82'\n",
    "non2 = '0x2e06516533a9709f0dcceab6676a69f8066aab665ca9d7ea36c1c316eb6b6f76'\n",
    "non3 = '0x17bc714988e44ef2262a9ab0368ac52fd821555c43646fe6a2486f5d308f0289'\n",
    "\n",
    "for tx in [summer1, summer2, summer3, non1, non2, non3]:\n",
    "    tx_whole = web3.eth.get_transaction(tx)\n",
    "    tx_input = contract_axie.decode_function_input(tx_whole.input)\n",
    "    sire_id, matron_id = tx_input[1]['_sireId'], tx_input[1]['_matronId']\n",
    "    sire = getAxieDetail(sire_id)\n",
    "    matron = getAxieDetail(matron_id)\n",
    "    parts_sire = getAxieParts(sire)\n",
    "    parts_matron = getAxieParts(matron)\n",
    "    print(isSummerAttempt(parts_sire, parts_matron))"
   ]
  },
  {
   "cell_type": "code",
   "execution_count": null,
   "id": "3eef4894",
   "metadata": {},
   "outputs": [],
   "source": [
    "tx_hash = '0xe31626e039473d16669104bab2ac84a741299aea7494b4e5cd7e32020cc03793'\n",
    "%timeit web3.eth.get_transaction(tx_hash)\n",
    "%timeit getAxieDetail(sire_id), getAxieDetail(matron_id)\n",
    "%timeit web3.eth.get_transaction_receipt(tx['hash'])"
   ]
  },
  {
   "cell_type": "code",
   "execution_count": null,
   "id": "1b4e58c0",
   "metadata": {},
   "outputs": [],
   "source": [
    "import os\n",
    "os.system(\"printf '\\a'\") # or '\\7'"
   ]
  },
  {
   "cell_type": "code",
   "execution_count": null,
   "id": "f1c245e6",
   "metadata": {},
   "outputs": [],
   "source": [
    "from IPython.display import Audio\n",
    "sound_file = './sound/mixkit-arcade-bonus-alert-767.wav'\n",
    "\n",
    "Audio(sound_file, autoplay=True)"
   ]
  },
  {
   "cell_type": "code",
   "execution_count": null,
   "id": "53530ba8",
   "metadata": {},
   "outputs": [],
   "source": [
    "# using Max's axie dump...\n",
    "\n",
    "import os\n",
    "import json\n",
    "\n",
    "path = '/Users/harang-mbp-22/Developer/data/axie dump'\n",
    "files = [file for file in os.listdir(path) if file[0] != '.']\n",
    "maxies = []\n",
    "for i, file in enumerate(files):\n",
    "    print(f\"File '{file}' {i+1}/{len(files)}.\")\n",
    "    with open(os.path.join(path, file), 'r') as f:\n",
    "        for line in f:\n",
    "            data = json.loads(line)\n",
    "            if '__typename' not in data['Item']:\n",
    "                continue\n",
    "            body_shape = data['Item']['bodyShape']['S'] if 'S' in data['Item']['class'] else None\n",
    "            axie_class = data['Item']['class']['S'] if 'S' in data['Item']['class'] else None\n",
    "            axie = {\n",
    "                'axieId': data['Item']['story_id']['S'],\n",
    "                'matronId': int(data['Item']['matronId']['N']),\n",
    "                'sireId': int(data['Item']['sireId']['N']),\n",
    "                'genes': data['Item']['genes']['S'],\n",
    "                'parts': {part['M']['type']['S']: part['M']['id']['S'] for part in data['Item']['parts']['L']},\n",
    "                'bodyShape': body_shape,\n",
    "                'class': axie_class,\n",
    "            }\n",
    "            db.maxies.insert_one(axie)"
   ]
  },
  {
   "cell_type": "code",
   "execution_count": null,
   "id": "17b56869",
   "metadata": {},
   "outputs": [],
   "source": [
    "db.maxies.count_documents({})"
   ]
  },
  {
   "cell_type": "code",
   "execution_count": null,
   "id": "dbe57876",
   "metadata": {},
   "outputs": [],
   "source": [
    "db.maxies.find_one({'axieId': '6994392'}), db.maxies.find_one({'axieId': 'test'})"
   ]
  },
  {
   "cell_type": "code",
   "execution_count": null,
   "id": "be26a2f4",
   "metadata": {},
   "outputs": [],
   "source": [
    "db.maxies.create_index([('axieId', pm.DESCENDING)])"
   ]
  },
  {
   "cell_type": "code",
   "execution_count": null,
   "id": "5f95c35c",
   "metadata": {},
   "outputs": [],
   "source": [
    "def getAxiePartsDB(axie_id):\n",
    "    axie = db.maxies.find_one({'axieId': str(axie_id)})\n",
    "    return axie['parts'] if axie else None"
   ]
  },
  {
   "cell_type": "code",
   "execution_count": null,
   "id": "f4dffbe3",
   "metadata": {
    "scrolled": true
   },
   "outputs": [],
   "source": [
    "getAxiePartsDB(6994392), getAxiePartsDB('hi')"
   ]
  },
  {
   "cell_type": "code",
   "execution_count": null,
   "id": "954585f4",
   "metadata": {},
   "outputs": [],
   "source": [
    "db.transactions.create_index([('created_at', pm.ASCENDING), ('to', pm.TEXT)])\n",
    "Audio(sound_file, autoplay=True)"
   ]
  },
  {
   "cell_type": "code",
   "execution_count": null,
   "id": "17b249f5",
   "metadata": {},
   "outputs": [],
   "source": [
    "f = open(\"axie-abi.json\", \"r\")\n",
    "lines = f.read()\n",
    "abi_str = json.dumps(json.loads(lines))\n",
    "contract_axie = web3.eth.contract(address=contract_address_axie, abi=abi_str)\n",
    "function_breed = contract_axie.find_functions_by_name('breedAxies')[0]"
   ]
  },
  {
   "cell_type": "code",
   "execution_count": null,
   "id": "85b99589",
   "metadata": {
    "scrolled": true
   },
   "outputs": [],
   "source": [
    "event_start = dt.datetime(2022, 7, 14, 4, 0, 0)\n",
    "query = {\n",
    "    'to': contract_address_axie.lower(),\n",
    "    'created_at': {'$gt': event_start}\n",
    "}\n",
    "query_count = db.transactions.count_documents(query)\n",
    "cursor = db.transactions.find(query)\n",
    "print(f\"Total txs to query: {query_count}.\")"
   ]
  },
  {
   "cell_type": "code",
   "execution_count": null,
   "id": "906a0e36",
   "metadata": {},
   "outputs": [],
   "source": [
    "for i, tx in enumerate(cursor):\n",
    "    if i%100==0:\n",
    "        print(f\"\\r{i}/{query_count}\", end='')\n",
    "    if 'input' in tx:\n",
    "        continue\n",
    "    tx_whole = web3.eth.get_transaction(tx['hash']) # ronin call\n",
    "    db.transactions.update_one(\n",
    "        {'_id': tx['_id']},\n",
    "        {\n",
    "            '$set': {\n",
    "                'input': tx_whole['input']\n",
    "            }\n",
    "        }\n",
    "    )\n",
    "\n",
    "Audio(sound_file, autoplay=True)"
   ]
  },
  {
   "cell_type": "code",
   "execution_count": null,
   "id": "73de2e0e",
   "metadata": {},
   "outputs": [],
   "source": [
    "import datetime as dt\n",
    "\n",
    "event_start = dt.datetime(2022, 7, 14, 4, 0, 0)\n",
    "query = {\n",
    "    'to': contract_address_axie.lower(),\n",
    "    'created_at': {'$gt': event_start}\n",
    "}\n",
    "query_count = db.transactions.count_documents(query)\n",
    "cursor = db.transactions.find(query)\n",
    "print(f\"Total txs to query: {query_count}.\")"
   ]
  },
  {
   "cell_type": "code",
   "execution_count": null,
   "id": "91bec88a",
   "metadata": {},
   "outputs": [],
   "source": [
    "tx['hash']"
   ]
  },
  {
   "cell_type": "code",
   "execution_count": null,
   "id": "38ec30af",
   "metadata": {},
   "outputs": [],
   "source": [
    "for i, tx in enumerate(cursor):\n",
    "    if i%100==0:\n",
    "        print(f\"\\r{i}/{query_count}\", end='')\n",
    "    if 'input' not in tx:\n",
    "        continue\n",
    "    if 'function' in tx:\n",
    "        continue\n",
    "    try:\n",
    "        tx_input = contract_axie.decode_function_input(tx['input'])\n",
    "    except:\n",
    "        continue\n",
    "    if str(tx_input[0]) != str(function_breed):\n",
    "        continue\n",
    "    sire_id, matron_id = tx_input[1]['_sireId'], tx_input[1]['_matronId']\n",
    "    receipt = web3.eth.get_transaction_receipt(tx['hash']) # ronin call\n",
    "    axie_spawn = contract_axie.events.AxieSpawn().processReceipt(receipt)\n",
    "    if len(axie_spawn) == 0:\n",
    "        continue\n",
    "    fee_axs = fee_slp = 0\n",
    "    axie_id = axie_spawn[0]['args']['_axieId']\n",
    "    for log in receipt.logs:\n",
    "        if log.address==contract_address_axs:\n",
    "            fee_axs = int(log.data, 16) / 10**18\n",
    "        elif log.address==contract_address_slp:\n",
    "            fee_slp = int(log.data, 16)\n",
    "    db.transactions.update_one(\n",
    "        {'_id': tx['_id']},\n",
    "        {\n",
    "            '$set': {\n",
    "                'function': 'breedAxies',\n",
    "                'axieId': axie_id,\n",
    "                'sireId': sire_id,\n",
    "                'matronId': matron_id,\n",
    "                'feeAxs': fee_axs,\n",
    "                'feeSlp': fee_slp\n",
    "            }\n",
    "        }\n",
    "    )\n",
    "\n",
    "Audio(sound_file, autoplay=True)"
   ]
  },
  {
   "cell_type": "code",
   "execution_count": null,
   "id": "c0a04e99",
   "metadata": {},
   "outputs": [],
   "source": [
    "event_start = dt.datetime(2022, 7, 14, 4, 0, 0)\n",
    "query = {\n",
    "    'to': contract_address_axie.lower(),\n",
    "    'created_at': {'$gt': event_start}\n",
    "}\n",
    "query_count = db.transactions.count_documents(query)\n",
    "cursor = db.transactions.find(query)\n",
    "print(f\"Total txs to query: {query_count}.\")"
   ]
  },
  {
   "cell_type": "code",
   "execution_count": null,
   "id": "68938400",
   "metadata": {},
   "outputs": [],
   "source": [
    "for i, tx in enumerate(cursor):\n",
    "    if i%100==0:\n",
    "        print(f\"\\r{i}/{query_count}\", end='')\n",
    "    if 'function' not in tx or tx['function'] != 'breedAxies':\n",
    "        continue\n",
    "    sire_id = tx['sireId']\n",
    "    matron_id = tx['matronId']\n",
    "    sire_parts, matron_parts = getAxiePartsDB(sire_id), getAxiePartsDB(matron_id)\n",
    "    if not sire_parts:\n",
    "        sire_parts = getAxieParts(getAxieDetail(sire_id)) # graphql call\n",
    "    if not matron_parts:\n",
    "        matron_parts = getAxieParts(getAxieDetail(matron_id)) # graphql call\n",
    "    summer_attempt = isSummerAttempt(sire_parts, matron_parts)\n",
    "    db.transactions.update_one(\n",
    "        {'_id': tx['_id']},\n",
    "        {\n",
    "            '$set': {\n",
    "                'summerAttempt': True\n",
    "            }\n",
    "        }\n",
    "    )\n",
    "\n",
    "Audio(sound_file, autoplay=True)"
   ]
  },
  {
   "cell_type": "code",
   "execution_count": null,
   "id": "904645fd",
   "metadata": {},
   "outputs": [],
   "source": []
  },
  {
   "cell_type": "code",
   "execution_count": null,
   "id": "4ee865b9",
   "metadata": {},
   "outputs": [],
   "source": [
    "# parts"
   ]
  },
  {
   "cell_type": "code",
   "execution_count": null,
   "id": "bc21d6b5",
   "metadata": {},
   "outputs": [],
   "source": [
    "# network of summer axies?"
   ]
  },
  {
   "cell_type": "markdown",
   "id": "48659d12",
   "metadata": {},
   "source": [
    "### Market\n",
    "\n",
    "- how much\n",
    "- when\n",
    "- n/6?\n",
    "    - then breed?\n",
    "- do markets value rarity?"
   ]
  },
  {
   "cell_type": "code",
   "execution_count": null,
   "id": "6d83c219",
   "metadata": {},
   "outputs": [],
   "source": []
  },
  {
   "cell_type": "code",
   "execution_count": null,
   "id": "311024ce",
   "metadata": {},
   "outputs": [],
   "source": []
  }
 ],
 "metadata": {
  "kernelspec": {
   "display_name": "Python 3 (ipykernel)",
   "language": "python",
   "name": "python3"
  },
  "language_info": {
   "codemirror_mode": {
    "name": "ipython",
    "version": 3
   },
   "file_extension": ".py",
   "mimetype": "text/x-python",
   "name": "python",
   "nbconvert_exporter": "python",
   "pygments_lexer": "ipython3",
   "version": "3.9.13"
  }
 },
 "nbformat": 4,
 "nbformat_minor": 5
}
